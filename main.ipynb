{
 "cells": [
  {
   "cell_type": "code",
   "execution_count": null,
   "id": "3533cb97",
   "metadata": {},
   "outputs": [],
   "source": [
    "from scipy.io import wavfile\n",
    "import numpy as np\n",
    "import matplotlib.pyplot as plt"
   ]
  },
  {
   "cell_type": "code",
   "execution_count": null,
   "id": "3e647183",
   "metadata": {},
   "outputs": [],
   "source": [
    "\n",
    "sample_rate, data = wavfile.read(\"/home/partage/M2IPA/meute/S70_20200114_150211_982.wav\")\n",
    "\n",
    "print(\"Fréquence d’échantillonnage :\", sample_rate)\n",
    "print(\"Type des données :\", data.dtype)\n",
    "print(\"Forme des données :\", data.shape)"
   ]
  },
  {
   "cell_type": "code",
   "execution_count": null,
   "id": "fc1b91f0",
   "metadata": {},
   "outputs": [],
   "source": [
    "n_samples, n_channels = data.shape\n",
    "\n",
    "plt.figure(figsize=(12, 8))\n",
    "\n",
    "for i in range(n_channels):\n",
    "    plt.subplot(n_channels, 1, i + 1)\n",
    "    plt.plot(data[22000:395000, i])\n",
    "    plt.title(f\"Canal {i+1}\")\n",
    "    plt.ylabel(\"Amplitude\")\n",
    "    if i == n_channels - 1:\n",
    "        plt.xlabel(\"Echantillons\")\n",
    "\n",
    "plt.tight_layout()\n",
    "plt.show()"
   ]
  }
 ],
 "metadata": {
  "kernelspec": {
   "display_name": "Python 3",
   "language": "python",
   "name": "python3"
  },
  "language_info": {
   "name": "python",
   "version": "3.12.3"
  }
 },
 "nbformat": 4,
 "nbformat_minor": 5
}
